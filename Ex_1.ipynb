{
  "nbformat": 4,
  "nbformat_minor": 0,
  "metadata": {
    "colab": {
      "name": "Ex.1",
      "provenance": [],
      "collapsed_sections": [],
      "toc_visible": true,
      "authorship_tag": "ABX9TyOCNeqzk50yoOvhSXbOw0Uw"
    },
    "kernelspec": {
      "name": "python3",
      "display_name": "Python 3"
    }
  },
  "cells": [
    {
      "cell_type": "markdown",
      "metadata": {
        "id": "J0c2kpsWDovk",
        "colab_type": "text"
      },
      "source": [
        "# Группа ЭН2-94\n"
      ]
    },
    {
      "cell_type": "markdown",
      "metadata": {
        "id": "dmqXsHXRDpF_",
        "colab_type": "text"
      },
      "source": [
        "## Состав бригады\n",
        "1. Лукащук\n",
        "2. Миклухин"
      ]
    },
    {
      "cell_type": "markdown",
      "metadata": {
        "id": "dnt7rgqOEiJN",
        "colab_type": "text"
      },
      "source": [
        "## Таблица\n",
        "Номер  | Фамилия\n",
        "--- | ---\n",
        "1 | Лукащук\n",
        "2 | Миклухин\n"
      ]
    },
    {
      "cell_type": "markdown",
      "metadata": {
        "id": "CAP8LflHEr-r",
        "colab_type": "text"
      },
      "source": [
        "## Картинка\n",
        "![NSTU's logo](https://habrastorage.org/getpro/moikrug/uploads/company/218/645/913/logo/medium_a68ad9662fbc4b06311a7297c5321cdf.png)"
      ]
    },
    {
      "cell_type": "markdown",
      "metadata": {
        "id": "rLsQdSttHLzv",
        "colab_type": "text"
      },
      "source": [
        "## Ссылка на материал\n",
        "[Сайт, на котором есть информация о MarkDown](https://colab.research.google.com/notebooks/markdown_guide.ipynb#scrollTo=tPqPXAKKkzaM)"
      ]
    },
    {
      "cell_type": "markdown",
      "metadata": {
        "id": "DszQ-vd9HxBX",
        "colab_type": "text"
      },
      "source": [
        "# Какое-то изменение\n"
      ]
    }
  ]
}